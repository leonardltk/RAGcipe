{
 "cells": [
  {
   "cell_type": "markdown",
   "id": "53f2ba48-fb54-4a59-8ac2-b0275b81c3f5",
   "metadata": {},
   "source": [
    "# Imports"
   ]
  },
  {
   "cell_type": "code",
   "execution_count": 1,
   "id": "3759b841-3291-44da-932a-573e5926d75b",
   "metadata": {},
   "outputs": [],
   "source": [
    "%load_ext autoreload\n",
    "%autoreload 2"
   ]
  },
  {
   "cell_type": "code",
   "execution_count": 2,
   "id": "09e0c57a-ceab-4cd8-b956-1847463d0e06",
   "metadata": {},
   "outputs": [],
   "source": [
    "import os\n",
    "import functools\n",
    "import traceback\n",
    "import pdb\n",
    "import pprint\n",
    "import time\n",
    "\n",
    "from dotenv import load_dotenv, find_dotenv\n",
    "import pandas as pd\n",
    "\n",
    "import langchain\n",
    "from langchain.llms import OpenAI\n",
    "from langchain.retrievers import BM25Retriever, EnsembleRetriever\n",
    "from langchain.retrievers.self_query.base import SelfQueryRetriever\n",
    "from langchain.vectorstores import Chroma\n",
    "\n",
    "from langchain.embeddings import HuggingFaceInstructEmbeddings\n",
    "\n",
    "from langchain.schema import Document\n",
    "from langchain.chains.query_constructor.base import AttributeInfo\n",
    "from langchain import PromptTemplate"
   ]
  },
  {
   "cell_type": "code",
   "execution_count": 3,
   "id": "bdc20cf5-f324-4bbb-860d-c86c1c109049",
   "metadata": {},
   "outputs": [
    {
     "data": {
      "text/plain": [
       "True"
      ]
     },
     "execution_count": 3,
     "metadata": {},
     "output_type": "execute_result"
    }
   ],
   "source": [
    "# secret keys\n",
    "load_dotenv(find_dotenv()) # read local .env file"
   ]
  },
  {
   "cell_type": "markdown",
   "id": "9fb35d87-4373-44fe-8dde-cf22e7544025",
   "metadata": {
    "jp-MarkdownHeadingCollapsed": true
   },
   "source": [
    "# Setup"
   ]
  },
  {
   "cell_type": "code",
   "execution_count": 4,
   "id": "e8cbe847-70b2-445e-9242-a6bb4eb84c0c",
   "metadata": {},
   "outputs": [],
   "source": [
    "recipes_csv = 'data/recipes.csv'\n",
    "recipes_df = pd.read_csv(recipes_csv)"
   ]
  },
  {
   "cell_type": "code",
   "execution_count": 5,
   "id": "6f243ec5-26f8-4ef5-8dab-6e6328c78d4d",
   "metadata": {},
   "outputs": [
    {
     "name": "stderr",
     "output_type": "stream",
     "text": [
      "/home/divinekage/miniconda3/envs/RAGcipe/lib/python3.10/site-packages/InstructorEmbedding/instructor.py:7: TqdmWarning: IProgress not found. Please update jupyter and ipywidgets. See https://ipywidgets.readthedocs.io/en/stable/user_install.html\n",
      "  from tqdm.autonotebook import trange\n"
     ]
    },
    {
     "name": "stdout",
     "output_type": "stream",
     "text": [
      "load INSTRUCTOR_Transformer\n"
     ]
    },
    {
     "name": "stderr",
     "output_type": "stream",
     "text": [
      "Loading the tokenizer from the `special_tokens_map.json` and the `added_tokens.json` will be removed in `transformers 5`,  it is kept for forward compatibility, but it is recommended to update your `tokenizer_config.json` by uploading it again. You will see the new `added_tokens_decoder` attribute that will store the relevant information.\n"
     ]
    },
    {
     "name": "stdout",
     "output_type": "stream",
     "text": [
      "max_seq_length  512\n"
     ]
    }
   ],
   "source": [
    "# Load embedding model\n",
    "embedding = HuggingFaceInstructEmbeddings(model_name = \"hkunlp/instructor-base\",\n",
    "                                          model_kwargs = {'device': 'cpu'}\n",
    "                                         )"
   ]
  },
  {
   "cell_type": "code",
   "execution_count": 6,
   "id": "6b4c082e-5f6d-4657-b820-bdca35e3f65e",
   "metadata": {
    "jupyter": {
     "source_hidden": true
    }
   },
   "outputs": [],
   "source": [
    "def data_prep(recipes_df):\n",
    "    titles_documents = df_to_documents(recipes_df,\n",
    "                                       page_content_column = \"title\",\n",
    "                                       metadata_lst = [\"title\", \"cuisine\", \"Carbs\", \"Proteins\"])\n",
    "    ingredients_documents = df_to_documents(recipes_df,\n",
    "                                            page_content_column = \"ingredients\",\n",
    "                                            metadata_lst = [\"title\"])\n",
    "    return titles_documents, ingredients_documents\n",
    "\n",
    "def df_to_documents(recipes_df, page_content_column, metadata_lst):\n",
    "    split_documents = []\n",
    "    for idx, row in recipes_df.iterrows():\n",
    "        # create document\n",
    "        current_document = Document(\n",
    "            page_content = row[page_content_column],\n",
    "            metadata = dict(\n",
    "                (i, row[i])\n",
    "                for i in metadata_lst\n",
    "            ),\n",
    "        )\n",
    "        # append to document list\n",
    "        split_documents.append(current_document)\n",
    "    return split_documents"
   ]
  },
  {
   "cell_type": "code",
   "execution_count": 7,
   "id": "e24a2e2a-f012-48ce-b124-333e35daa6ca",
   "metadata": {},
   "outputs": [],
   "source": [
    "titles_documents, ingredients_documents = data_prep(recipes_df)"
   ]
  },
  {
   "cell_type": "code",
   "execution_count": 8,
   "id": "0b8bba71-602f-4da0-bc8c-f4a668e9d573",
   "metadata": {
    "jupyter": {
     "source_hidden": true
    }
   },
   "outputs": [],
   "source": [
    "def create_vector_db(titles_documents, ingredients_documents):\n",
    "    # make vector dbs\n",
    "    vector_dbs = {}\n",
    "    vector_dbs[\"titles_db\"] = document_to_vectordb(titles_documents)\n",
    "    vector_dbs[\"ingredients_db\"] = document_to_vectordb(ingredients_documents)\n",
    "    return vector_dbs\n",
    "\n",
    "def document_to_vectordb(split_documents):\n",
    "    vectordb = Chroma.from_documents(\n",
    "        documents = split_documents,\n",
    "        embedding = embedding,\n",
    "    )\n",
    "    return vectordb"
   ]
  },
  {
   "cell_type": "code",
   "execution_count": 9,
   "id": "668fc0ad-3f12-43f5-a6ac-85b8a4bb0cfb",
   "metadata": {},
   "outputs": [],
   "source": [
    "vector_dbs = create_vector_db(titles_documents, ingredients_documents)"
   ]
  },
  {
   "cell_type": "code",
   "execution_count": 10,
   "id": "bbfa7b6e-87bd-46e3-b192-72310814afa0",
   "metadata": {
    "jupyter": {
     "source_hidden": true
    }
   },
   "outputs": [],
   "source": [
    "def self_querying_retriever():\n",
    "    # selection for categories\n",
    "    allowed_cuisine_lst = [\"none\", \"japanese\", \"italian\", \"chinese\"]\n",
    "    allowed_carbohydrates_lst = [\"none\", \"noodles\", \"rice\", \"pasta\", \"bread\"]\n",
    "    allowed_proteins_lst = [\"none\", \"chicken\", \"seafood\", \"beef\"]\n",
    "\n",
    "    # Creating our self-querying retriever\n",
    "    metadata_field_info = [\n",
    "        AttributeInfo(\n",
    "            name=\"title\",\n",
    "            description=\"Title of the recipe\",\n",
    "            type=\"string\",\n",
    "        ),\n",
    "        AttributeInfo(\n",
    "            name=\"cuisine\",\n",
    "            description=f\"The type of cuisine that the recipe makes. Choose from one of {allowed_cuisine_lst}\",\n",
    "            type=\"string\",\n",
    "        ),\n",
    "        AttributeInfo(\n",
    "            name=\"Carbs\",\n",
    "            description=f\"The kind of carbohydrates used as the base for the recipe. Choose from one of {allowed_carbohydrates_lst}\",\n",
    "            type=\"string\",\n",
    "        ),\n",
    "        AttributeInfo(\n",
    "            name=\"Proteins\",\n",
    "            description=f\"The proteins or meats used for the recipe. Choose from one of {allowed_proteins_lst}\",\n",
    "            type=\"string\",\n",
    "        ),\n",
    "    ]\n",
    "    document_content_description = \"Brief descriptions of the recipe\"\n",
    "    return metadata_field_info, document_content_description"
   ]
  },
  {
   "cell_type": "code",
   "execution_count": 11,
   "id": "2888e2bb-805d-4d7d-a25a-bfd9465a858a",
   "metadata": {},
   "outputs": [],
   "source": [
    "metadata_field_info, document_content_description = self_querying_retriever()"
   ]
  },
  {
   "cell_type": "markdown",
   "id": "8d10fb44-859a-4dc6-b4ca-dc7a910ec87b",
   "metadata": {},
   "source": [
    "# Data"
   ]
  },
  {
   "cell_type": "raw",
   "id": "c6f7a8d0-4a1e-447a-b8b3-667a857c75df",
   "metadata": {},
   "source": [
    "View the recipe data"
   ]
  },
  {
   "cell_type": "code",
   "execution_count": 12,
   "id": "34f11ac5-d76d-489e-8c52-809b160bf1a8",
   "metadata": {},
   "outputs": [
    {
     "data": {
      "text/html": [
       "<div>\n",
       "<style scoped>\n",
       "    .dataframe tbody tr th:only-of-type {\n",
       "        vertical-align: middle;\n",
       "    }\n",
       "\n",
       "    .dataframe tbody tr th {\n",
       "        vertical-align: top;\n",
       "    }\n",
       "\n",
       "    .dataframe thead th {\n",
       "        text-align: right;\n",
       "    }\n",
       "</style>\n",
       "<table border=\"1\" class=\"dataframe\">\n",
       "  <thead>\n",
       "    <tr style=\"text-align: right;\">\n",
       "      <th></th>\n",
       "      <th>title</th>\n",
       "      <th>cuisine</th>\n",
       "      <th>Carbs</th>\n",
       "      <th>Proteins</th>\n",
       "      <th>recipe</th>\n",
       "      <th>ingredients</th>\n",
       "    </tr>\n",
       "  </thead>\n",
       "  <tbody>\n",
       "    <tr>\n",
       "      <th>0</th>\n",
       "      <td>Chicken Udon Noodle Soup</td>\n",
       "      <td>japanese</td>\n",
       "      <td>noodles</td>\n",
       "      <td>chicken</td>\n",
       "      <td>1. cook udon noodles according to directions (...</td>\n",
       "      <td>udon noodles\\n1 tsp dashi\\n1 tsp soy sauce\\n1 ...</td>\n",
       "    </tr>\n",
       "    <tr>\n",
       "      <th>1</th>\n",
       "      <td>cacio e pepe</td>\n",
       "      <td>italian</td>\n",
       "      <td>pasta</td>\n",
       "      <td>none</td>\n",
       "      <td>salt\\n0.75 cup pecorino romano, plus dusting\\n...</td>\n",
       "      <td>salt\\npecorino romano\\nparmigiano reggiano\\np...</td>\n",
       "    </tr>\n",
       "    <tr>\n",
       "      <th>2</th>\n",
       "      <td>Creamy Mentaiko Pasta</td>\n",
       "      <td>italian</td>\n",
       "      <td>pasta</td>\n",
       "      <td>none</td>\n",
       "      <td>200g spaghetti \\n18g cheese\\n1 tbsp cooking oi...</td>\n",
       "      <td>spaghetti\\ncheese\\ncooking oil\\nonion\\ngarlic...</td>\n",
       "    </tr>\n",
       "    <tr>\n",
       "      <th>3</th>\n",
       "      <td>Beef Enoki Rolls</td>\n",
       "      <td>japanese</td>\n",
       "      <td>none</td>\n",
       "      <td>beef</td>\n",
       "      <td>Ingredients:\\npack shabu beef (half pack, 100g...</td>\n",
       "      <td>shabu beef\\nenoki mushrooms\\ndashin stock\\nsh...</td>\n",
       "    </tr>\n",
       "    <tr>\n",
       "      <th>4</th>\n",
       "      <td>Cabbage Rolls in Broth</td>\n",
       "      <td>chinese</td>\n",
       "      <td>none</td>\n",
       "      <td>chicken</td>\n",
       "      <td>Ingredients:\\n- 1 cabbage\\n- 150g minced chick...</td>\n",
       "      <td>cabbage\\nminced chicken\\nshrimp paste\\nblack ...</td>\n",
       "    </tr>\n",
       "    <tr>\n",
       "      <th>5</th>\n",
       "      <td>Chicken Veggie Patties</td>\n",
       "      <td>chinese</td>\n",
       "      <td>none</td>\n",
       "      <td>chicken</td>\n",
       "      <td>Makes 5-6 patties\\n\\nIngredients:\\n- 150g minc...</td>\n",
       "      <td>minced chicken\\nfrozen veggies\\nonion\\ngarlic...</td>\n",
       "    </tr>\n",
       "    <tr>\n",
       "      <th>6</th>\n",
       "      <td>Delifrance Inspired Lobster Filling</td>\n",
       "      <td>western</td>\n",
       "      <td>bread</td>\n",
       "      <td>seafood</td>\n",
       "      <td>Serves 2\\n\\nIngredients:\\n- 7 boiled  prawns (...</td>\n",
       "      <td>prawns\\ncrabmeat\\nonion\\ntuna\\nchili powder\\nmayo</td>\n",
       "    </tr>\n",
       "    <tr>\n",
       "      <th>7</th>\n",
       "      <td>Mushroom Orzo Risotto (Creamy)</td>\n",
       "      <td>italian</td>\n",
       "      <td>pasta</td>\n",
       "      <td>none</td>\n",
       "      <td>Mushroom Orzo Risotto (serves 2)\\n\\n5 piece mu...</td>\n",
       "      <td>mushrooms\\nsalt\\npepper\\nbutter\\ngarlic\\nonion...</td>\n",
       "    </tr>\n",
       "    <tr>\n",
       "      <th>8</th>\n",
       "      <td>Sour Cream &amp; Chives Pasta</td>\n",
       "      <td>italian</td>\n",
       "      <td>pasta</td>\n",
       "      <td>none</td>\n",
       "      <td>penne for two\\n3 tbsp butter\\n2 tbsp flour\\n20...</td>\n",
       "      <td>penne\\nbutter\\nflour\\nmilk\\nsour cream\\nchives...</td>\n",
       "    </tr>\n",
       "    <tr>\n",
       "      <th>9</th>\n",
       "      <td>Peanut Noodles</td>\n",
       "      <td>chinese</td>\n",
       "      <td>noodles</td>\n",
       "      <td>none</td>\n",
       "      <td>Peanut Noodles (serves 2)\\n\\nIngredients:\\n- n...</td>\n",
       "      <td>noodles\\npeanut butter\\nsesame oil\\nlight soy ...</td>\n",
       "    </tr>\n",
       "    <tr>\n",
       "      <th>10</th>\n",
       "      <td>Vongole Pasta</td>\n",
       "      <td>italian</td>\n",
       "      <td>pasta</td>\n",
       "      <td>seafood</td>\n",
       "      <td>Vongole Pasta (serves 2)\\n\\n500g-700g clams\\n2...</td>\n",
       "      <td>clams\\ngarlic\\nbutter\\nwhite wine\\ndried chill...</td>\n",
       "    </tr>\n",
       "    <tr>\n",
       "      <th>11</th>\n",
       "      <td>Prawn Pesto Spaghetti</td>\n",
       "      <td>italian</td>\n",
       "      <td>pasta</td>\n",
       "      <td>seafood</td>\n",
       "      <td>1. Take 12-14 prawns. Thaw and dry them\\n2. Ma...</td>\n",
       "      <td>12-14 prawns\\npepper\\nherbs\\nchilli powder\\n1 ...</td>\n",
       "    </tr>\n",
       "    <tr>\n",
       "      <th>12</th>\n",
       "      <td>Prawn Pesto Penne</td>\n",
       "      <td>italian</td>\n",
       "      <td>pasta</td>\n",
       "      <td>seafood</td>\n",
       "      <td>1. Take 12-14 prawns. Thaw and dry them\\n2. Ma...</td>\n",
       "      <td>12-14 prawns\\npepper\\nherbs\\nchilli powder\\n1 ...</td>\n",
       "    </tr>\n",
       "  </tbody>\n",
       "</table>\n",
       "</div>"
      ],
      "text/plain": [
       "                                  title   cuisine    Carbs Proteins  \\\n",
       "0              Chicken Udon Noodle Soup  japanese  noodles  chicken   \n",
       "1                          cacio e pepe   italian    pasta     none   \n",
       "2                 Creamy Mentaiko Pasta   italian    pasta     none   \n",
       "3                      Beef Enoki Rolls  japanese     none     beef   \n",
       "4                Cabbage Rolls in Broth   chinese     none  chicken   \n",
       "5                Chicken Veggie Patties   chinese     none  chicken   \n",
       "6   Delifrance Inspired Lobster Filling   western    bread  seafood   \n",
       "7        Mushroom Orzo Risotto (Creamy)   italian    pasta     none   \n",
       "8             Sour Cream & Chives Pasta   italian    pasta     none   \n",
       "9                        Peanut Noodles   chinese  noodles     none   \n",
       "10                        Vongole Pasta   italian    pasta  seafood   \n",
       "11                Prawn Pesto Spaghetti   italian    pasta  seafood   \n",
       "12                    Prawn Pesto Penne   italian    pasta  seafood   \n",
       "\n",
       "                                               recipe  \\\n",
       "0   1. cook udon noodles according to directions (...   \n",
       "1   salt\\n0.75 cup pecorino romano, plus dusting\\n...   \n",
       "2   200g spaghetti \\n18g cheese\\n1 tbsp cooking oi...   \n",
       "3   Ingredients:\\npack shabu beef (half pack, 100g...   \n",
       "4   Ingredients:\\n- 1 cabbage\\n- 150g minced chick...   \n",
       "5   Makes 5-6 patties\\n\\nIngredients:\\n- 150g minc...   \n",
       "6   Serves 2\\n\\nIngredients:\\n- 7 boiled  prawns (...   \n",
       "7   Mushroom Orzo Risotto (serves 2)\\n\\n5 piece mu...   \n",
       "8   penne for two\\n3 tbsp butter\\n2 tbsp flour\\n20...   \n",
       "9   Peanut Noodles (serves 2)\\n\\nIngredients:\\n- n...   \n",
       "10  Vongole Pasta (serves 2)\\n\\n500g-700g clams\\n2...   \n",
       "11  1. Take 12-14 prawns. Thaw and dry them\\n2. Ma...   \n",
       "12  1. Take 12-14 prawns. Thaw and dry them\\n2. Ma...   \n",
       "\n",
       "                                          ingredients  \n",
       "0   udon noodles\\n1 tsp dashi\\n1 tsp soy sauce\\n1 ...  \n",
       "1    salt\\npecorino romano\\nparmigiano reggiano\\np...  \n",
       "2    spaghetti\\ncheese\\ncooking oil\\nonion\\ngarlic...  \n",
       "3    shabu beef\\nenoki mushrooms\\ndashin stock\\nsh...  \n",
       "4    cabbage\\nminced chicken\\nshrimp paste\\nblack ...  \n",
       "5    minced chicken\\nfrozen veggies\\nonion\\ngarlic...  \n",
       "6   prawns\\ncrabmeat\\nonion\\ntuna\\nchili powder\\nmayo  \n",
       "7   mushrooms\\nsalt\\npepper\\nbutter\\ngarlic\\nonion...  \n",
       "8   penne\\nbutter\\nflour\\nmilk\\nsour cream\\nchives...  \n",
       "9   noodles\\npeanut butter\\nsesame oil\\nlight soy ...  \n",
       "10  clams\\ngarlic\\nbutter\\nwhite wine\\ndried chill...  \n",
       "11  12-14 prawns\\npepper\\nherbs\\nchilli powder\\n1 ...  \n",
       "12  12-14 prawns\\npepper\\nherbs\\nchilli powder\\n1 ...  "
      ]
     },
     "execution_count": 12,
     "metadata": {},
     "output_type": "execute_result"
    }
   ],
   "source": [
    "recipes_df"
   ]
  },
  {
   "cell_type": "markdown",
   "id": "f7152ab6-b876-4320-b569-9ba5711ee22e",
   "metadata": {},
   "source": [
    "# SelfQueryRetriever"
   ]
  },
  {
   "cell_type": "markdown",
   "id": "d3d7f2ea-0f30-4e22-9c00-c83cc7a5db0b",
   "metadata": {},
   "source": [
    "Set up **SelfQueryRetriever** with descriptions,\n",
    "specify the constraints for the category prediction\n",
    "e.g:\n",
    "- 'cuisine', choose from ['none', 'japanese', 'italian', 'chinese']"
   ]
  },
  {
   "cell_type": "code",
   "execution_count": 13,
   "id": "51501b52-b8b8-49b7-aac1-605dda1a6bbd",
   "metadata": {},
   "outputs": [
    {
     "data": {
      "text/plain": [
       "[AttributeInfo(name='title', description='Title of the recipe', type='string'),\n",
       " AttributeInfo(name='cuisine', description=\"The type of cuisine that the recipe makes. Choose from one of ['none', 'japanese', 'italian', 'chinese']\", type='string'),\n",
       " AttributeInfo(name='Carbs', description=\"The kind of carbohydrates used as the base for the recipe. Choose from one of ['none', 'noodles', 'rice', 'pasta', 'bread']\", type='string'),\n",
       " AttributeInfo(name='Proteins', description=\"The proteins or meats used for the recipe. Choose from one of ['none', 'chicken', 'seafood', 'beef']\", type='string')]"
      ]
     },
     "execution_count": 13,
     "metadata": {},
     "output_type": "execute_result"
    }
   ],
   "source": [
    "metadata_field_info"
   ]
  },
  {
   "cell_type": "code",
   "execution_count": 14,
   "id": "f3d5f9c3-ee3c-4d67-aabd-d827cc9f823c",
   "metadata": {},
   "outputs": [],
   "source": [
    "self_querying_retriever = SelfQueryRetriever.from_llm(\n",
    "    llm = OpenAI(temperature=0),\n",
    "    vectorstore = vector_dbs['titles_db'],\n",
    "    document_contents = 'Brief descriptions of the recipe',\n",
    "    metadata_field_info = metadata_field_info,\n",
    "    verbose = True\n",
    ")"
   ]
  },
  {
   "cell_type": "markdown",
   "id": "c93f4bb4-3528-4921-9ec1-8c71f459e36a",
   "metadata": {},
   "source": [
    "## Template prompt provided by **SelfQueryRetriever**\n",
    "\n",
    "Your goal is to structure the user's query to match the request schema provided below.\n",
    "\n",
    "<< Structured Request Schema >>\n",
    "When responding use a markdown code snippet with a JSON object formatted in the following schema:\n",
    "\n",
    "```json\n",
    "{\n",
    "    \"query\": string \\ text string to compare to document contents\n",
    "    \"filter\": string \\ logical condition statement for filtering documents\n",
    "}\n",
    "```\n",
    "\n",
    "The query string should contain only text that is expected to match the contents of documents. Any conditions in the filter should not be mentioned in the query as well.\n",
    "\n",
    "A logical condition statement is composed of one or more comparison and logical operation statements.\n",
    "\n",
    "A comparison statement takes the form: `comp(attr, val)`:\n",
    "- `comp` (eq | ne | gt | gte | lt | lte): comparator\n",
    "- `attr` (string):  name of attribute to apply the comparison to\n",
    "- `val` (string): is the comparison value\n",
    "\n",
    "A logical operation statement takes the form `op(statement1, statement2, ...)`:\n",
    "- `op` (and | or): logical operator\n",
    "- `statement1`, `statement2`, ... (comparison statements or logical operation statements): one or more statements to apply the operation to\n",
    "\n",
    "Make sure that you only use the comparators and logical operators listed above and no others.\n",
    "Make sure that filters only refer to attributes that exist in the data source.\n",
    "Make sure that filters only use the attributed names with its function names if there are functions applied on them.\n",
    "Make sure that filters only use format `YYYY-MM-DD` when handling timestamp data typed values.\n",
    "Make sure that filters take into account the descriptions of attributes and only make comparisons that are feasible given the type of data being stored.\n",
    "Make sure that filters are only used as needed. If there are no filters that should be applied return \"NO_FILTER\" for the filter value.\n",
    "\n",
    "<< Example 1. >>\n",
    "Data Source:\n",
    "```json\n",
    "{\n",
    "    \"content\": \"Lyrics of a song\",\n",
    "    \"attributes\": {\n",
    "        \"artist\": {\n",
    "            \"type\": \"string\",\n",
    "            \"description\": \"Name of the song artist\"\n",
    "        },\n",
    "        \"length\": {\n",
    "            \"type\": \"integer\",\n",
    "            \"description\": \"Length of the song in seconds\"\n",
    "        },\n",
    "        \"genre\": {\n",
    "            \"type\": \"string\",\n",
    "            \"description\": \"The song genre, one of \"pop\", \"rock\" or \"rap\"\"\n",
    "        }\n",
    "    }\n",
    "}\n",
    "```\n",
    "\n",
    "User Query:\n",
    "What are songs by Taylor Swift or Katy Perry about teenage romance under 3 minutes long in the dance pop genre\n",
    "\n",
    "Structured Request:\n",
    "```json\n",
    "{\n",
    "    \"query\": \"teenager love\",\n",
    "    \"filter\": \"and(or(eq(\\\"artist\\\", \\\"Taylor Swift\\\"), eq(\\\"artist\\\", \\\"Katy Perry\\\")), lt(\\\"length\\\", 180), eq(\\\"genre\\\", \\\"pop\\\"))\"\n",
    "}\n",
    "```\n",
    "\n",
    "\n",
    "<< Example 2. >>\n",
    "Data Source:\n",
    "```json\n",
    "{\n",
    "    \"content\": \"Lyrics of a song\",\n",
    "    \"attributes\": {\n",
    "        \"artist\": {\n",
    "            \"type\": \"string\",\n",
    "            \"description\": \"Name of the song artist\"\n",
    "        },\n",
    "        \"length\": {\n",
    "            \"type\": \"integer\",\n",
    "            \"description\": \"Length of the song in seconds\"\n",
    "        },\n",
    "        \"genre\": {\n",
    "            \"type\": \"string\",\n",
    "            \"description\": \"The song genre, one of \"pop\", \"rock\" or \"rap\"\"\n",
    "        }\n",
    "    }\n",
    "}\n",
    "```\n",
    "\n",
    "User Query:\n",
    "What are songs that were not published on Spotify\n",
    "\n",
    "Structured Request:\n",
    "```json\n",
    "{\n",
    "    \"query\": \"\",\n",
    "    \"filter\": \"NO_FILTER\"\n",
    "}\n",
    "```\n",
    "\n",
    "\n",
    "<< Example 3. >>\n",
    "Data Source:\n",
    "```json\n",
    "{\n",
    "    \"content\": \"Brief descriptions of the recipe\",\n",
    "    \"attributes\": {\n",
    "        \"title\": {\n",
    "            \"description\": \"Title of the recipe\",\n",
    "            \"type\": \"string\"\n",
    "        },\n",
    "        \"cuisine\": {\n",
    "            \"description\": \"The type of cuisine that the recipe makes. Choose from one of ['none', 'japanese', 'italian', 'chinese']\",\n",
    "            \"type\": \"string\"\n",
    "        },\n",
    "        \"Carbs\": {\n",
    "            \"description\": \"The kind of carbohydrates used as the base for the recipe. Choose from one of ['none', 'noodles', 'rice', 'pasta', 'bread']\",\n",
    "            \"type\": \"string\"\n",
    "        },\n",
    "        \"Proteins\": {\n",
    "            \"description\": \"The proteins or meats used for the recipe. Choose from one of ['none', 'chicken', 'seafood', 'beef']\",\n",
    "            \"type\": \"string\"\n",
    "        }\n",
    "    }\n",
    "}\n",
    "```\n",
    "\n",
    "User Query: i want to eat something italian, with seafood\n",
    "\n",
    "Structured Request:"
   ]
  },
  {
   "cell_type": "markdown",
   "id": "3a3b779d-99c7-451a-b115-e2a6b9e0fb7d",
   "metadata": {},
   "source": [
    "# Run inference"
   ]
  },
  {
   "cell_type": "markdown",
   "id": "101335d6-8741-4fc0-83ad-b16b1fd5df25",
   "metadata": {},
   "source": [
    "```json\n",
    "{\n",
    "    \"content\": \"Brief descriptions of the recipe\",\n",
    "    \"attributes\": {\n",
    "    \"title\": {\n",
    "        \"description\": \"Title of the recipe\",\n",
    "        \"type\": \"string\"\n",
    "    },\n",
    "    \"cuisine\": {\n",
    "        \"description\": \"The type of cuisine that the recipe makes. Choose from one of ['none', 'japanese', 'italian', 'chinese']\",\n",
    "        \"type\": \"string\"\n",
    "    },\n",
    "    \"Carbs\": {\n",
    "        \"description\": \"The kind of carbohydrates used as the base for the recipe. Choose from one of ['none', 'noodles', 'rice', 'pasta', 'bread']\",\n",
    "        \"type\": \"string\"\n",
    "    },\n",
    "    \"Proteins\": {\n",
    "        \"description\": \"The proteins or meats used for the recipe. Choose from one of ['none', 'chicken', 'seafood', 'beef']\",\n",
    "        \"type\": \"string\"\n",
    "    }\n",
    "}\n",
    "```"
   ]
  },
  {
   "cell_type": "markdown",
   "id": "930337fa-d73d-4188-af30-0a69b7dce632",
   "metadata": {
    "scrolled": true
   },
   "source": [
    "```json\n",
    "{\n",
    "    \"query\": \"<something about the food>\",\n",
    "    \"filter\": \"and(eq(\\\"cuisine\\\", \\\"italian\\\"), eq(\\\"Proteins\\\", \\\"seafood\\\"))\"\n",
    "}\n",
    "```"
   ]
  },
  {
   "cell_type": "markdown",
   "id": "cbc929fc-404f-4962-b284-f34d0ed6c99e",
   "metadata": {},
   "source": [
    "## italian + seafood"
   ]
  },
  {
   "cell_type": "code",
   "execution_count": null,
   "id": "a685afa2-9e49-46cb-88e1-faa878b15689",
   "metadata": {},
   "outputs": [],
   "source": [
    "user_input = f\"\"\"\n",
    "i want to eat something italian, with seafood\n",
    "\"\"\""
   ]
  },
  {
   "cell_type": "code",
   "execution_count": 15,
   "id": "9d231954-f87d-4c47-a0e0-485392ef451f",
   "metadata": {},
   "outputs": [
    {
     "data": {
      "text/html": [
       "<div>\n",
       "<style scoped>\n",
       "    .dataframe tbody tr th:only-of-type {\n",
       "        vertical-align: middle;\n",
       "    }\n",
       "\n",
       "    .dataframe tbody tr th {\n",
       "        vertical-align: top;\n",
       "    }\n",
       "\n",
       "    .dataframe thead th {\n",
       "        text-align: right;\n",
       "    }\n",
       "</style>\n",
       "<table border=\"1\" class=\"dataframe\">\n",
       "  <thead>\n",
       "    <tr style=\"text-align: right;\">\n",
       "      <th></th>\n",
       "      <th>title</th>\n",
       "      <th>cuisine</th>\n",
       "      <th>Carbs</th>\n",
       "      <th>Proteins</th>\n",
       "      <th>recipe</th>\n",
       "      <th>ingredients</th>\n",
       "    </tr>\n",
       "  </thead>\n",
       "  <tbody>\n",
       "    <tr>\n",
       "      <th>10</th>\n",
       "      <td>Vongole Pasta</td>\n",
       "      <td>italian</td>\n",
       "      <td>pasta</td>\n",
       "      <td>seafood</td>\n",
       "      <td>Vongole Pasta (serves 2)\\n\\n500g-700g clams\\n2...</td>\n",
       "      <td>clams\\ngarlic\\nbutter\\nwhite wine\\ndried chill...</td>\n",
       "    </tr>\n",
       "    <tr>\n",
       "      <th>11</th>\n",
       "      <td>Prawn Pesto Spaghetti</td>\n",
       "      <td>italian</td>\n",
       "      <td>pasta</td>\n",
       "      <td>seafood</td>\n",
       "      <td>1. Take 12-14 prawns. Thaw and dry them\\n2. Ma...</td>\n",
       "      <td>12-14 prawns\\npepper\\nherbs\\nchilli powder\\n1 ...</td>\n",
       "    </tr>\n",
       "    <tr>\n",
       "      <th>12</th>\n",
       "      <td>Prawn Pesto Penne</td>\n",
       "      <td>italian</td>\n",
       "      <td>pasta</td>\n",
       "      <td>seafood</td>\n",
       "      <td>1. Take 12-14 prawns. Thaw and dry them\\n2. Ma...</td>\n",
       "      <td>12-14 prawns\\npepper\\nherbs\\nchilli powder\\n1 ...</td>\n",
       "    </tr>\n",
       "  </tbody>\n",
       "</table>\n",
       "</div>"
      ],
      "text/plain": [
       "                    title  cuisine  Carbs Proteins  \\\n",
       "10          Vongole Pasta  italian  pasta  seafood   \n",
       "11  Prawn Pesto Spaghetti  italian  pasta  seafood   \n",
       "12      Prawn Pesto Penne  italian  pasta  seafood   \n",
       "\n",
       "                                               recipe  \\\n",
       "10  Vongole Pasta (serves 2)\\n\\n500g-700g clams\\n2...   \n",
       "11  1. Take 12-14 prawns. Thaw and dry them\\n2. Ma...   \n",
       "12  1. Take 12-14 prawns. Thaw and dry them\\n2. Ma...   \n",
       "\n",
       "                                          ingredients  \n",
       "10  clams\\ngarlic\\nbutter\\nwhite wine\\ndried chill...  \n",
       "11  12-14 prawns\\npepper\\nherbs\\nchilli powder\\n1 ...  \n",
       "12  12-14 prawns\\npepper\\nherbs\\nchilli powder\\n1 ...  "
      ]
     },
     "execution_count": 15,
     "metadata": {},
     "output_type": "execute_result"
    }
   ],
   "source": [
    "recipes_df[recipes_df.apply(lambda x: \n",
    "                            (x['cuisine'] == 'italian') and \\\n",
    "                            (x['Proteins'] == 'seafood')\n",
    "                            , axis=1)]"
   ]
  },
  {
   "cell_type": "raw",
   "id": "bf180b47-f16a-4dac-b0fe-e26a9a81fe05",
   "metadata": {},
   "source": [
    "# Expected Schema\n",
    "----------------------------------------------------------------------------------------------------------------\n",
    "filter=Operation(\n",
    "    operator=<Operator.AND: 'and'>, \n",
    "    arguments=[Comparison(comparator=<Comparator.EQ: 'eq'>, attribute='cuisine', value='italian'), \n",
    "               Comparison(comparator=<Comparator.EQ: 'eq'>, attribute='Proteins', value='seafood')]) \n",
    "\n",
    "# Expected prediction\n",
    "----------------------------------------------------------------------------------------------------------------\n",
    "                                        vvvvvvvvv             vvvvvvvvv\n",
    "metadata={'Carbs': 'pasta', 'Proteins': 'seafood', 'cuisine': 'italian', 'title': 'Vongole Pasta'}\n",
    "metadata={'Carbs': 'pasta', 'Proteins': 'seafood', 'cuisine': 'italian', 'title': 'Prawn Pesto Penne'}\n",
    "metadata={'Carbs': 'pasta', 'Proteins': 'seafood', 'cuisine': 'italian', 'title': 'Prawn Pesto Spaghetti'}"
   ]
  },
  {
   "cell_type": "code",
   "execution_count": 40,
   "id": "ab837d1a-713a-49da-a5b4-9d4d46d7830b",
   "metadata": {},
   "outputs": [
    {
     "name": "stdout",
     "output_type": "stream",
     "text": [
      "query=' ' filter=Operation(operator=<Operator.AND: 'and'>, arguments=[Comparison(comparator=<Comparator.EQ: 'eq'>, attribute='cuisine', value='italian'), Comparison(comparator=<Comparator.EQ: 'eq'>, attribute='Proteins', value='seafood')]) limit=None\n",
      "----------\n",
      "page_content='Vongole Pasta' metadata={'Carbs': 'pasta', 'Proteins': 'seafood', 'cuisine': 'italian', 'title': 'Vongole Pasta'}\n",
      "page_content='Prawn Pesto Penne' metadata={'Carbs': 'pasta', 'Proteins': 'seafood', 'cuisine': 'italian', 'title': 'Prawn Pesto Penne'}\n",
      "page_content='Prawn Pesto Spaghetti' metadata={'Carbs': 'pasta', 'Proteins': 'seafood', 'cuisine': 'italian', 'title': 'Prawn Pesto Spaghetti'}\n"
     ]
    }
   ],
   "source": [
    "output_lst = self_querying_retriever.get_relevant_documents(user_input)\n",
    "print('----------')\n",
    "for document in output_lst:\n",
    "    print(document)"
   ]
  },
  {
   "cell_type": "markdown",
   "id": "15c38c49-92a2-465a-93f2-f61132d8aa94",
   "metadata": {},
   "source": [
    "## japanese + {chicken, beef}"
   ]
  },
  {
   "cell_type": "code",
   "execution_count": null,
   "id": "15478b3a-35a5-491b-b1d0-08f2bf60314b",
   "metadata": {},
   "outputs": [],
   "source": [
    "user_input = f\"\"\"\n",
    "i want a japanese cuisine, with chicken or beef meats\n",
    "\"\"\""
   ]
  },
  {
   "cell_type": "code",
   "execution_count": 17,
   "id": "851ce10c-fea9-4d1a-9ebb-b3b17ebf2405",
   "metadata": {},
   "outputs": [
    {
     "data": {
      "text/html": [
       "<div>\n",
       "<style scoped>\n",
       "    .dataframe tbody tr th:only-of-type {\n",
       "        vertical-align: middle;\n",
       "    }\n",
       "\n",
       "    .dataframe tbody tr th {\n",
       "        vertical-align: top;\n",
       "    }\n",
       "\n",
       "    .dataframe thead th {\n",
       "        text-align: right;\n",
       "    }\n",
       "</style>\n",
       "<table border=\"1\" class=\"dataframe\">\n",
       "  <thead>\n",
       "    <tr style=\"text-align: right;\">\n",
       "      <th></th>\n",
       "      <th>title</th>\n",
       "      <th>cuisine</th>\n",
       "      <th>Carbs</th>\n",
       "      <th>Proteins</th>\n",
       "      <th>recipe</th>\n",
       "      <th>ingredients</th>\n",
       "    </tr>\n",
       "  </thead>\n",
       "  <tbody>\n",
       "    <tr>\n",
       "      <th>0</th>\n",
       "      <td>Chicken Udon Noodle Soup</td>\n",
       "      <td>japanese</td>\n",
       "      <td>noodles</td>\n",
       "      <td>chicken</td>\n",
       "      <td>1. cook udon noodles according to directions (...</td>\n",
       "      <td>udon noodles\\n1 tsp dashi\\n1 tsp soy sauce\\n1 ...</td>\n",
       "    </tr>\n",
       "    <tr>\n",
       "      <th>3</th>\n",
       "      <td>Beef Enoki Rolls</td>\n",
       "      <td>japanese</td>\n",
       "      <td>none</td>\n",
       "      <td>beef</td>\n",
       "      <td>Ingredients:\\npack shabu beef (half pack, 100g...</td>\n",
       "      <td>shabu beef\\nenoki mushrooms\\ndashin stock\\nsh...</td>\n",
       "    </tr>\n",
       "  </tbody>\n",
       "</table>\n",
       "</div>"
      ],
      "text/plain": [
       "                      title   cuisine    Carbs Proteins  \\\n",
       "0  Chicken Udon Noodle Soup  japanese  noodles  chicken   \n",
       "3          Beef Enoki Rolls  japanese     none     beef   \n",
       "\n",
       "                                              recipe  \\\n",
       "0  1. cook udon noodles according to directions (...   \n",
       "3  Ingredients:\\npack shabu beef (half pack, 100g...   \n",
       "\n",
       "                                         ingredients  \n",
       "0  udon noodles\\n1 tsp dashi\\n1 tsp soy sauce\\n1 ...  \n",
       "3   shabu beef\\nenoki mushrooms\\ndashin stock\\nsh...  "
      ]
     },
     "execution_count": 17,
     "metadata": {},
     "output_type": "execute_result"
    }
   ],
   "source": [
    "recipes_df[recipes_df.apply(lambda x: \n",
    "                            (x['cuisine'] == 'japanese') and \\\n",
    "                            (x['Proteins'] in ['chicken', 'beef'])\n",
    "                            , axis=1)]"
   ]
  },
  {
   "cell_type": "raw",
   "id": "7cb462f7-f5be-47a7-b755-69c4b3c3e7ec",
   "metadata": {},
   "source": [
    "# Expected Schema\n",
    "----------------------------------------------------------------------------------------------------------------\n",
    "filter=Operation(operator=<Operator.AND: 'and'>, \n",
    "                 arguments=[Comparison(comparator=<Comparator.EQ: 'eq'>, \n",
    "                                       attribute='cuisine', value='japanese'), \n",
    "                            Operation(operator=<Operator.OR: 'or'>, \n",
    "                                      arguments=[Comparison(comparator=<Comparator.EQ: 'eq'>, \n",
    "                                                            attribute='Proteins', value='chicken'), \n",
    "                                                 Comparison(comparator=<Comparator.EQ: 'eq'>, \n",
    "                                                            attribute='Proteins', value='beef')])]) \n",
    "\n",
    "# Expected prediction\n",
    "----------------------------------------------------------------------------------------------------------------\n",
    "                                          vvvvvvvvv             vvvvvvvvvv\n",
    "metadata={'Carbs': 'none',    'Proteins': 'beef',    'cuisine': 'japanese', 'title': 'Beef Enoki Rolls'}\n",
    "metadata={'Carbs': 'noodles', 'Proteins': 'chicken', 'cuisine': 'japanese', 'title': 'Chicken Udon Noodle Soup'}"
   ]
  },
  {
   "cell_type": "code",
   "execution_count": 18,
   "id": "a5e4c61e-1b73-4114-992a-e51eb79f5f3a",
   "metadata": {},
   "outputs": [
    {
     "name": "stderr",
     "output_type": "stream",
     "text": [
      "/home/divinekage/miniconda3/envs/RAGcipe/lib/python3.10/site-packages/langchain/chains/llm.py:280: UserWarning: The predict_and_parse method is deprecated, instead pass an output parser directly to LLMChain.\n",
      "  warnings.warn(\n"
     ]
    },
    {
     "name": "stdout",
     "output_type": "stream",
     "text": [
      "query=' ' filter=Operation(operator=<Operator.AND: 'and'>, arguments=[Comparison(comparator=<Comparator.EQ: 'eq'>, attribute='cuisine', value='japanese'), Operation(operator=<Operator.OR: 'or'>, arguments=[Comparison(comparator=<Comparator.EQ: 'eq'>, attribute='Proteins', value='chicken'), Comparison(comparator=<Comparator.EQ: 'eq'>, attribute='Proteins', value='beef')])]) limit=None\n",
      "----------\n",
      "page_content='Beef Enoki Rolls' metadata={'Carbs': 'none', 'Proteins': 'beef', 'cuisine': 'japanese', 'title': 'Beef Enoki Rolls'}\n",
      "page_content='Chicken Udon Noodle Soup' metadata={'Carbs': 'noodles', 'Proteins': 'chicken', 'cuisine': 'japanese', 'title': 'Chicken Udon Noodle Soup'}\n"
     ]
    }
   ],
   "source": [
    "output_lst = self_querying_retriever.get_relevant_documents(user_input)\n",
    "print('----------')\n",
    "for document in output_lst:\n",
    "    print(document)"
   ]
  },
  {
   "cell_type": "markdown",
   "id": "047c6ddd-7156-4f40-9363-702df3fa1e9c",
   "metadata": {},
   "source": [
    "# Visualization"
   ]
  },
  {
   "cell_type": "code",
   "execution_count": 1,
   "id": "617f30c4-e1b0-4b4b-9326-e5cb8b302356",
   "metadata": {},
   "outputs": [
    {
     "data": {
      "image/png": "[encoded data removed]",
      "text/plain": [
       "<Figure size 1600x800 with 2 Axes>"
      ]
     },
     "metadata": {},
     "output_type": "display_data"
    }
   ],
   "source": [
    "import numpy as np\n",
    "import matplotlib.pyplot as plt\n",
    "\n",
    "# Set random seed for reproducibility\n",
    "np.random.seed(42)\n",
    "\n",
    "# Generate synthetic data for cluster 0 and cluster 1\n",
    "n_points = 100\n",
    "cluster_0 = np.random.normal(loc=[0, 0], scale=[5, 5], size=(n_points, 2))\n",
    "cluster_1 = np.random.normal(loc=[20, 20], scale=[5, 5], size=(n_points, 2))\n",
    "# Generate synthetic data for cluster 2 and cluster 3\n",
    "cluster_2 = np.random.normal(loc=[10, 10], scale=[10, 10], size=(n_points, 2))\n",
    "cluster_3 = np.random.normal(loc=[15, 15], scale=[10, 10], size=(n_points, 2))\n",
    "\n",
    "\n",
    "# Create merged clusters as specified\n",
    "cluster_0_2 = cluster_0 + cluster_2\n",
    "cluster_0_3 = cluster_0 + cluster_3\n",
    "cluster_1_2 = cluster_1 + cluster_2\n",
    "cluster_1_3 = cluster_1 + cluster_3\n",
    "# Generate synthetic data for new clusters: italian-pork and chinese-vegetarian\n",
    "cluster_italian_pork = cluster_0 + np.random.normal(loc=[5, 5], scale=[5, 5], size=(n_points, 2))\n",
    "cluster_chinese_vegetarian = cluster_1 + np.random.normal(loc=[5, -5], scale=[5, 5], size=(n_points, 2))\n",
    "\n",
    "# Plot clusters with the new additions\n",
    "plt.figure(figsize=(16, 8))\n",
    "\n",
    "# Merged Clusters\n",
    "plt.subplot(1,2,1)\n",
    "plt.scatter(cluster_0_2[:, 0], cluster_0_2[:, 1], c='cyan', label='italian-chicken', alpha=0.6)\n",
    "plt.scatter(cluster_0_3[:, 0], cluster_0_3[:, 1], c='magenta', label='italian-beef', alpha=0.6)\n",
    "plt.scatter(cluster_italian_pork[:, 0], cluster_italian_pork[:, 1], c='lime', label='italian-pork', alpha=0.6)\n",
    "plt.scatter(cluster_1_2[:, 0], cluster_1_2[:, 1], c='yellow', label='chinese-chicken', alpha=0.6)\n",
    "plt.scatter(cluster_1_3[:, 0], cluster_1_3[:, 1], c='orange', label='chinese-beef', alpha=0.6)\n",
    "plt.scatter(cluster_chinese_vegetarian[:, 0], cluster_chinese_vegetarian[:, 1], c='brown', label='chinese-vegetarian', alpha=0.6)\n",
    "# \n",
    "plt.xlim([-20, 70])\n",
    "plt.ylim([-20, 80])\n",
    "plt.legend()\n",
    "plt.title('All Clusters')\n",
    "\n",
    "\n",
    "# Merged Clusters\n",
    "plt.subplot(1,2,2)\n",
    "plt.scatter(cluster_0_2[:, 0], cluster_0_2[:, 1], c='cyan', label='italian-chicken', alpha=0.6)\n",
    "plt.scatter(cluster_0_3[:, 0], cluster_0_3[:, 1], c='magenta', label='italian-beef', alpha=0.6)\n",
    "plt.scatter(cluster_italian_pork[:, 0], cluster_italian_pork[:, 1], c='lime', label='italian-pork', alpha=0.6)\n",
    "# \n",
    "plt.xlim([-20, 70])\n",
    "plt.ylim([-20, 80])\n",
    "plt.legend()\n",
    "plt.title('Filtered Clusters')\n",
    "\n",
    "\n",
    "plt.show()\n"
   ]
  }
 ],
 "metadata": {
  "kernelspec": {
   "display_name": "Python 3 (ipykernel)",
   "language": "python",
   "name": "python3"
  },
  "language_info": {
   "codemirror_mode": {
    "name": "ipython",
    "version": 3
   },
   "file_extension": ".py",
   "mimetype": "text/x-python",
   "name": "python",
   "nbconvert_exporter": "python",
   "pygments_lexer": "ipython3",
   "version": "3.10.13"
  }
 },
 "nbformat": 4,
 "nbformat_minor": 5
}
