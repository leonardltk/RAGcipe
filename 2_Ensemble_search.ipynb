{
 "cells": [
  {
   "cell_type": "markdown",
   "id": "c889f534-4713-415d-80c9-204ce93ee8cb",
   "metadata": {},
   "source": [
    "# Imports"
   ]
  },
  {
   "cell_type": "code",
   "execution_count": 1,
   "id": "3759b841-3291-44da-932a-573e5926d75b",
   "metadata": {},
   "outputs": [],
   "source": [
    "%load_ext autoreload\n",
    "%autoreload 2"
   ]
  },
  {
   "cell_type": "code",
   "execution_count": 2,
   "id": "e8dfbbf7-db69-4f10-a26c-b0bb1c1b0924",
   "metadata": {},
   "outputs": [],
   "source": [
    "import os\n",
    "import functools\n",
    "import traceback\n",
    "import pdb\n",
    "import pprint\n",
    "import time\n",
    "\n",
    "from dotenv import load_dotenv, find_dotenv\n",
    "import pandas as pd\n",
    "\n",
    "import langchain\n",
    "from langchain.llms import OpenAI\n",
    "from langchain.retrievers import BM25Retriever, EnsembleRetriever\n",
    "from langchain.vectorstores import Chroma\n",
    "from langchain.vectorstores import FAISS\n",
    "\n",
    "from langchain.embeddings import HuggingFaceInstructEmbeddings\n",
    "\n",
    "from langchain.schema import Document\n",
    "from langchain.chains.query_constructor.base import AttributeInfo\n",
    "from langchain import PromptTemplate"
   ]
  },
  {
   "cell_type": "markdown",
   "id": "f15fca34-e681-423a-929f-445faf8f7a5d",
   "metadata": {},
   "source": [
    "# Data"
   ]
  },
  {
   "cell_type": "code",
   "execution_count": 3,
   "id": "3d3bc16c-cc7b-4494-923a-a52382a9b6d4",
   "metadata": {},
   "outputs": [
    {
     "name": "stdout",
     "output_type": "stream",
     "text": [
      "/home/divinekage/Codes/LLM/RAGcipe\n"
     ]
    }
   ],
   "source": [
    "!echo $PWD"
   ]
  },
  {
   "cell_type": "code",
   "execution_count": 4,
   "id": "3aaa7ad4-74c4-4cec-8c9d-a25be535eb39",
   "metadata": {},
   "outputs": [],
   "source": [
    "recipes_csv = 'data/recipes.csv'\n",
    "recipes_df = pd.read_csv(recipes_csv)"
   ]
  },
  {
   "cell_type": "markdown",
   "id": "53a30bed-901b-48ec-a346-6dcc76c443a0",
   "metadata": {
    "jp-MarkdownHeadingCollapsed": true
   },
   "source": [
    "# Setup"
   ]
  },
  {
   "cell_type": "code",
   "execution_count": 5,
   "id": "8623c078-1cd3-4740-9437-abd872897112",
   "metadata": {},
   "outputs": [
    {
     "name": "stderr",
     "output_type": "stream",
     "text": [
      "/home/divinekage/miniconda3/envs/RAGcipe/lib/python3.10/site-packages/InstructorEmbedding/instructor.py:7: TqdmWarning: IProgress not found. Please update jupyter and ipywidgets. See https://ipywidgets.readthedocs.io/en/stable/user_install.html\n",
      "  from tqdm.autonotebook import trange\n"
     ]
    },
    {
     "name": "stdout",
     "output_type": "stream",
     "text": [
      "load INSTRUCTOR_Transformer\n"
     ]
    },
    {
     "name": "stderr",
     "output_type": "stream",
     "text": [
      "Loading the tokenizer from the `special_tokens_map.json` and the `added_tokens.json` will be removed in `transformers 5`,  it is kept for forward compatibility, but it is recommended to update your `tokenizer_config.json` by uploading it again. You will see the new `added_tokens_decoder` attribute that will store the relevant information.\n"
     ]
    },
    {
     "name": "stdout",
     "output_type": "stream",
     "text": [
      "max_seq_length  512\n"
     ]
    }
   ],
   "source": [
    "# Load embedding model\n",
    "embedding = HuggingFaceInstructEmbeddings(model_name = \"hkunlp/instructor-base\",\n",
    "                                          model_kwargs = {'device': 'cpu'}\n",
    "                                         )"
   ]
  },
  {
   "cell_type": "code",
   "execution_count": 6,
   "id": "a52cd7b9-07ac-4ed5-9369-ba6b2f6caa17",
   "metadata": {
    "jupyter": {
     "source_hidden": true
    }
   },
   "outputs": [],
   "source": [
    "def data_prep(recipes_df):\n",
    "    titles_documents = df_to_documents(recipes_df,\n",
    "                                       page_content_column = \"title\",\n",
    "                                       metadata_lst = [\"title\", \"cuisine\", \"Carbs\", \"Proteins\"])\n",
    "    ingredients_documents = df_to_documents(recipes_df,\n",
    "                                            page_content_column = \"ingredients\",\n",
    "                                            metadata_lst = [\"title\"])\n",
    "    return titles_documents, ingredients_documents\n",
    "\n",
    "def df_to_documents(recipes_df, page_content_column, metadata_lst):\n",
    "    split_documents = []\n",
    "    for idx, row in recipes_df.iterrows():\n",
    "        # create document\n",
    "        current_document = Document(\n",
    "            page_content = row[page_content_column],\n",
    "            metadata = dict(\n",
    "                (i, row[i])\n",
    "                for i in metadata_lst\n",
    "            ),\n",
    "        )\n",
    "        # append to document list\n",
    "        split_documents.append(current_document)\n",
    "    return split_documents"
   ]
  },
  {
   "cell_type": "code",
   "execution_count": 7,
   "id": "6b2a92a1-9191-493a-b9b1-e20bca70b091",
   "metadata": {},
   "outputs": [],
   "source": [
    "titles_documents, ingredients_documents = data_prep(recipes_df)"
   ]
  },
  {
   "cell_type": "code",
   "execution_count": 8,
   "id": "54b4dfff-3f5c-4f8e-9435-d638b47d1d49",
   "metadata": {
    "jupyter": {
     "source_hidden": true
    }
   },
   "outputs": [],
   "source": [
    "def create_vector_db(titles_documents, ingredients_documents):\n",
    "    # make vector dbs\n",
    "    vector_dbs = {}\n",
    "    vector_dbs[\"titles_db\"] = document_to_vectordb(titles_documents)\n",
    "    vector_dbs[\"ingredients_db\"] = document_to_vectordb(ingredients_documents)\n",
    "    return vector_dbs\n",
    "\n",
    "def document_to_vectordb(split_documents):\n",
    "    vectordb = Chroma.from_documents(\n",
    "        documents = split_documents,\n",
    "        embedding = embedding,\n",
    "    )\n",
    "    return vectordb"
   ]
  },
  {
   "cell_type": "code",
   "execution_count": 9,
   "id": "80ae98b9-f4c9-49a7-a428-909c63e3abdf",
   "metadata": {},
   "outputs": [],
   "source": [
    "vector_dbs = create_vector_db(titles_documents, ingredients_documents)"
   ]
  },
  {
   "cell_type": "code",
   "execution_count": 10,
   "id": "848d30db-b753-424a-ad81-1567f8d5d1c4",
   "metadata": {
    "jupyter": {
     "source_hidden": true
    }
   },
   "outputs": [],
   "source": [
    "def get_title(document):\n",
    "    ingredient = document.page_content\n",
    "    title_bool = recipes_df['ingredients'] == ingredient\n",
    "    for extracted_title in recipes_df[title_bool]['title']:\n",
    "        pass\n",
    "    return extracted_title"
   ]
  },
  {
   "cell_type": "code",
   "execution_count": 11,
   "id": "21a0601b-43cb-468f-944d-8e9e926a1cfe",
   "metadata": {},
   "outputs": [],
   "source": [
    "def ingredients_to_recipes(ingredients_string, display_titles=2):\n",
    "    # ================ BM25Retriever search ================\n",
    "    bm25_retriever = BM25Retriever.from_texts(recipes_df['ingredients'])\n",
    "    document_lst = bm25_retriever.get_relevant_documents(ingredients_string)\n",
    "    recipe_string_bm25 = \"\"\n",
    "    for idx, document in enumerate(document_lst, 1):\n",
    "        extracted_title = get_title(document)\n",
    "        recipe_string_bm25 += f\"{idx}. {extracted_title}\\n\"\n",
    "        if idx >= display_titles:\n",
    "            break\n",
    "    recipe_string_bm25 = recipe_string_bm25.strip('\\n')\n",
    "    print(\"--- titles (bm25) ---\")\n",
    "    print(recipe_string_bm25)\n",
    "\n",
    "    # ================ semantic search ================\n",
    "    faiss_vectorstore = FAISS.from_texts(recipes_df['ingredients'],\n",
    "                                         embedding)\n",
    "    faiss_retriever = faiss_vectorstore.as_retriever(search_kwargs={\"k\": 5})\n",
    "    document_lst = faiss_retriever.get_relevant_documents(ingredients_string)\n",
    "    recipe_string_semantic = \"\"\n",
    "    for idx, document in enumerate(document_lst, 1):\n",
    "        extracted_title = get_title(document)\n",
    "        recipe_string_semantic += f\"{idx}. {extracted_title}\\n\"\n",
    "        if idx >= display_titles:\n",
    "            break\n",
    "    recipe_string_semantic = recipe_string_semantic.strip('\\n')\n",
    "    print(\"\\n--- titles (semantic) ---\")\n",
    "    print(recipe_string_semantic)\n",
    "\n",
    "    # ================ ensemble search ================\n",
    "    ensemble_retriever = EnsembleRetriever(retrievers=[bm25_retriever, faiss_retriever],\n",
    "                                           weights=[0.5, 0.5])\n",
    "    document_lst = ensemble_retriever.get_relevant_documents(ingredients_string)\n",
    "    recipe_string_ensemble = \"\"\n",
    "    for idx, document in enumerate(document_lst, 1):\n",
    "        extracted_title = get_title(document)\n",
    "        recipe_string_ensemble += f\"{idx}. {extracted_title}\\n\"\n",
    "        if idx >= display_titles:\n",
    "            break\n",
    "    recipe_string_ensemble = recipe_string_ensemble.strip('\\n')\n",
    "    print(\"\\n--- titles (ensemble) ---\")\n",
    "    print(recipe_string_ensemble)\n",
    "\n",
    "    # ================ return ================\n",
    "    return recipe_string_bm25, recipe_string_semantic, recipe_string_ensemble, f\"recipes successfully retrieved\""
   ]
  },
  {
   "cell_type": "markdown",
   "id": "8d10fb44-859a-4dc6-b4ca-dc7a910ec87b",
   "metadata": {},
   "source": [
    "# Ensemble retrieval (BM25 + Semantic search)"
   ]
  },
  {
   "cell_type": "raw",
   "id": "70496380-65c8-4dd1-82a8-ef786c48e4c5",
   "metadata": {},
   "source": [
    "Exact keyword search does better if you want to fixed the type of pasta=penne"
   ]
  },
  {
   "cell_type": "code",
   "execution_count": 24,
   "id": "13aa838f-d0cd-47dd-adaf-8477613336bf",
   "metadata": {},
   "outputs": [
    {
     "name": "stdout",
     "output_type": "stream",
     "text": [
      "--- titles (bm25) ---\n",
      "1. Prawn Pesto Penne\n",
      "2. Sour Cream & Chives Pasta\n",
      "3. Delifrance Inspired Lobster Filling\n",
      "\n",
      "--- titles (semantic) ---\n",
      "1. Prawn Pesto Spaghetti\n",
      "2. Prawn Pesto Penne\n",
      "3. Delifrance Inspired Lobster Filling\n",
      "\n",
      "--- titles (ensemble) ---\n",
      "1. Prawn Pesto Penne\n",
      "2. Prawn Pesto Spaghetti\n",
      "3. Delifrance Inspired Lobster Filling\n"
     ]
    }
   ],
   "source": [
    "ingredients_list = \"\"\"\n",
    "penne\n",
    "prawns\n",
    "salt\n",
    "\"\"\"\n",
    "_ = ingredients_to_recipes(ingredients_list, 3)"
   ]
  },
  {
   "cell_type": "raw",
   "id": "91077215-f165-4ecc-891c-889f29d205e6",
   "metadata": {},
   "source": [
    "Semantic search does better if you want to freely choose among the different pasta options in {spaghetti, penne, fusilli, etc}"
   ]
  },
  {
   "cell_type": "code",
   "execution_count": 25,
   "id": "20b85788-7738-480a-bc13-d9853b3220ca",
   "metadata": {},
   "outputs": [
    {
     "name": "stdout",
     "output_type": "stream",
     "text": [
      "--- titles (bm25) ---\n",
      "1. Delifrance Inspired Lobster Filling\n",
      "2. Prawn Pesto Spaghetti\n",
      "3. Prawn Pesto Penne\n",
      "\n",
      "--- titles (semantic) ---\n",
      "1. Prawn Pesto Spaghetti\n",
      "2. Prawn Pesto Penne\n",
      "3. Delifrance Inspired Lobster Filling\n",
      "\n",
      "--- titles (ensemble) ---\n",
      "1. Prawn Pesto Spaghetti\n",
      "2. Delifrance Inspired Lobster Filling\n",
      "3. Prawn Pesto Penne\n"
     ]
    }
   ],
   "source": [
    "ingredients_list = \"\"\"\n",
    "pasta\n",
    "prawns\n",
    "salt\n",
    "\"\"\"\n",
    "_ = ingredients_to_recipes(ingredients_list, 3)"
   ]
  },
  {
   "cell_type": "markdown",
   "id": "04083720-ef67-467c-9c95-d307958b270b",
   "metadata": {
    "jp-MarkdownHeadingCollapsed": true
   },
   "source": [
    "## recipe ingredients"
   ]
  },
  {
   "cell_type": "code",
   "execution_count": 14,
   "id": "8ef43640-fcf9-4fa2-b990-7b959ec36f39",
   "metadata": {},
   "outputs": [
    {
     "name": "stdout",
     "output_type": "stream",
     "text": [
      "12-14 prawns\n",
      "pepper\n",
      "herbs\n",
      "chilli powder\n",
      "1 clove garlic (minced)\n",
      "olive oil\n",
      "butter (1-2 spoonful)\n",
      "penne\n",
      "pesto paste\n"
     ]
    }
   ],
   "source": [
    "print(recipes_df[recipes_df['title']=='Prawn Pesto Penne']['ingredients'][12])"
   ]
  },
  {
   "cell_type": "code",
   "execution_count": 15,
   "id": "48784586-4957-4402-94a1-7624ea30832b",
   "metadata": {},
   "outputs": [
    {
     "name": "stdout",
     "output_type": "stream",
     "text": [
      "12-14 prawns\n",
      "pepper\n",
      "herbs\n",
      "chilli powder\n",
      "1 clove garlic (minced)\n",
      "olive oil\n",
      "butter (1-2 spoonful)\n",
      "spaghetti\n",
      "pesto paste\n",
      "salt\n"
     ]
    }
   ],
   "source": [
    "print(recipes_df[recipes_df['title']=='Prawn Pesto Spaghetti']['ingredients'][11])"
   ]
  },
  {
   "cell_type": "code",
   "execution_count": 16,
   "id": "5c5c1b89-747e-4452-8e81-57782de7d395",
   "metadata": {},
   "outputs": [
    {
     "name": "stdout",
     "output_type": "stream",
     "text": [
      "prawns\n",
      "crabmeat\n",
      "onion\n",
      "tuna\n",
      "chili powder\n",
      "mayo\n"
     ]
    }
   ],
   "source": [
    "print(recipes_df[recipes_df['title']=='Delifrance Inspired Lobster Filling']['ingredients'][6])"
   ]
  },
  {
   "cell_type": "markdown",
   "id": "48b5f289-8706-4b12-8693-a642e8abe754",
   "metadata": {},
   "source": [
    "# BM25"
   ]
  },
  {
   "cell_type": "code",
   "execution_count": 17,
   "id": "73a5287c-b271-4d31-b209-7ee8786bc6a4",
   "metadata": {},
   "outputs": [
    {
     "data": {
      "text/html": [
       "<div>\n",
       "<style scoped>\n",
       "    .dataframe tbody tr th:only-of-type {\n",
       "        vertical-align: middle;\n",
       "    }\n",
       "\n",
       "    .dataframe tbody tr th {\n",
       "        vertical-align: top;\n",
       "    }\n",
       "\n",
       "    .dataframe thead th {\n",
       "        text-align: right;\n",
       "    }\n",
       "</style>\n",
       "<table border=\"1\" class=\"dataframe\">\n",
       "  <thead>\n",
       "    <tr style=\"text-align: right;\">\n",
       "      <th></th>\n",
       "      <th>title</th>\n",
       "      <th>cuisine</th>\n",
       "      <th>Carbs</th>\n",
       "      <th>Proteins</th>\n",
       "      <th>recipe</th>\n",
       "      <th>ingredients</th>\n",
       "    </tr>\n",
       "  </thead>\n",
       "  <tbody>\n",
       "    <tr>\n",
       "      <th>0</th>\n",
       "      <td>Chicken Udon Noodle Soup</td>\n",
       "      <td>japanese</td>\n",
       "      <td>noodles</td>\n",
       "      <td>chicken</td>\n",
       "      <td>1. cook udon noodles according to directions (...</td>\n",
       "      <td>udon noodles\\n1 tsp dashi\\n1 tsp soy sauce\\n1 ...</td>\n",
       "    </tr>\n",
       "  </tbody>\n",
       "</table>\n",
       "</div>"
      ],
      "text/plain": [
       "                      title   cuisine    Carbs Proteins  \\\n",
       "0  Chicken Udon Noodle Soup  japanese  noodles  chicken   \n",
       "\n",
       "                                              recipe  \\\n",
       "0  1. cook udon noodles according to directions (...   \n",
       "\n",
       "                                         ingredients  \n",
       "0  udon noodles\\n1 tsp dashi\\n1 tsp soy sauce\\n1 ...  "
      ]
     },
     "execution_count": 17,
     "metadata": {},
     "output_type": "execute_result"
    }
   ],
   "source": [
    "recipes_df.head(1)"
   ]
  },
  {
   "cell_type": "code",
   "execution_count": 18,
   "id": "161edb8b-a5c2-47ae-8ed1-602becb9314c",
   "metadata": {},
   "outputs": [
    {
     "name": "stdout",
     "output_type": "stream",
     "text": [
      "Chicken Udon Noodle Soup | udon noodles 1 tsp dashi 1 tsp soy sauce 1 pinch salt 1 pinch sugar 1 cup boiling water cooked chicken\n",
      "cacio e pepe | salt pecorino romano parmigiano reggiano pepper linguine spaghetti olive oil\n",
      "Creamy Mentaiko Pasta | spaghetti cheese cooking oil onion garlic red pepper flakes heavy cream mentaiko salt\n",
      "Beef Enoki Rolls | shabu beef enoki mushrooms dashin stock shiitake mushrooms onion sake mirin soy sauce dashi stock cracked black pepper egg oil chilli powder salt\n",
      "Cabbage Rolls in Broth | cabbage minced chicken shrimp paste black fungus soy sauce sesame oil white pepper chives broth salt\n",
      "Chicken Veggie Patties | minced chicken frozen veggies onion garlic minced and grated sesame oil sugar white pepper salt egg ginger grated flour\n",
      "Delifrance Inspired Lobster Filling | prawns crabmeat onion tuna chili powder mayo\n",
      "Mushroom Orzo Risotto (Creamy) | mushrooms salt pepper butter garlic onion orzo thyme parsley chicken broth lemon parmesan heavy cream salt\n",
      "Sour Cream & Chives Pasta | penne butter flour milk sour cream chives salt pepper chilli flakes\n",
      "Peanut Noodles | noodles peanut butter sesame oil light soy sauce doubanjiang rice vinegar sugar salt hot water hoisin sauce minced garlic gochujang\n",
      "Vongole Pasta | clams garlic butter white wine dried chilli salt parsley spaghetti olive oil\n",
      "Prawn Pesto Spaghetti | 12 14 prawns pepper herbs chilli powder 1 clove garlic minced olive oil butter 1 2 spoonful spaghetti pesto paste salt\n",
      "Prawn Pesto Penne | 12 14 prawns pepper herbs chilli powder 1 clove garlic minced olive oil butter 1 2 spoonful penne pesto paste\n"
     ]
    }
   ],
   "source": [
    "recipes = dict(\n",
    "    (row['title'], row['ingredients'].strip('\\n ')\\\n",
    "                                       .replace('\\n', ' ')\\\n",
    "                                       .replace('/', ' ')\\\n",
    "                                       .replace('(', ' ')\\\n",
    "                                       .replace(')', ' ')\\\n",
    "                                       .replace('-', ' ')\\\n",
    "                                       .replace('  ', ' ')\\\n",
    "                                       .replace('  ', ' ')\\\n",
    "                                       .replace('  ', ' ')\\\n",
    "                                       .strip(' ')\\\n",
    "                                       .split(' '))\n",
    "    for idx, row in recipes_df.iterrows()\n",
    ")\n",
    "for key, value in recipes.items():\n",
    "    print(key, '|', \" \".join(value))"
   ]
  },
  {
   "cell_type": "code",
   "execution_count": 19,
   "id": "0089a597-e2fb-4e81-8fa7-ff6f128f2435",
   "metadata": {},
   "outputs": [
    {
     "data": {
      "text/html": [
       "<div>\n",
       "<style scoped>\n",
       "    .dataframe tbody tr th:only-of-type {\n",
       "        vertical-align: middle;\n",
       "    }\n",
       "\n",
       "    .dataframe tbody tr th {\n",
       "        vertical-align: top;\n",
       "    }\n",
       "\n",
       "    .dataframe thead th {\n",
       "        text-align: right;\n",
       "    }\n",
       "</style>\n",
       "<table border=\"1\" class=\"dataframe\">\n",
       "  <thead>\n",
       "    <tr style=\"text-align: right;\">\n",
       "      <th></th>\n",
       "      <th>title</th>\n",
       "      <th>cuisine</th>\n",
       "      <th>Carbs</th>\n",
       "      <th>Proteins</th>\n",
       "      <th>recipe</th>\n",
       "      <th>ingredients</th>\n",
       "    </tr>\n",
       "  </thead>\n",
       "  <tbody>\n",
       "    <tr>\n",
       "      <th>6</th>\n",
       "      <td>Delifrance Inspired Lobster Filling</td>\n",
       "      <td>western</td>\n",
       "      <td>bread</td>\n",
       "      <td>seafood</td>\n",
       "      <td>Serves 2\\n\\nIngredients:\\n- 7 boiled  prawns (...</td>\n",
       "      <td>prawns\\ncrabmeat\\nonion\\ntuna\\nchili powder\\nmayo</td>\n",
       "    </tr>\n",
       "    <tr>\n",
       "      <th>11</th>\n",
       "      <td>Prawn Pesto Spaghetti</td>\n",
       "      <td>italian</td>\n",
       "      <td>pasta</td>\n",
       "      <td>seafood</td>\n",
       "      <td>1. Take 12-14 prawns. Thaw and dry them\\n2. Ma...</td>\n",
       "      <td>12-14 prawns\\npepper\\nherbs\\nchilli powder\\n1 ...</td>\n",
       "    </tr>\n",
       "    <tr>\n",
       "      <th>12</th>\n",
       "      <td>Prawn Pesto Penne</td>\n",
       "      <td>italian</td>\n",
       "      <td>pasta</td>\n",
       "      <td>seafood</td>\n",
       "      <td>1. Take 12-14 prawns. Thaw and dry them\\n2. Ma...</td>\n",
       "      <td>12-14 prawns\\npepper\\nherbs\\nchilli powder\\n1 ...</td>\n",
       "    </tr>\n",
       "  </tbody>\n",
       "</table>\n",
       "</div>"
      ],
      "text/plain": [
       "                                  title  cuisine  Carbs Proteins  \\\n",
       "6   Delifrance Inspired Lobster Filling  western  bread  seafood   \n",
       "11                Prawn Pesto Spaghetti  italian  pasta  seafood   \n",
       "12                    Prawn Pesto Penne  italian  pasta  seafood   \n",
       "\n",
       "                                               recipe  \\\n",
       "6   Serves 2\\n\\nIngredients:\\n- 7 boiled  prawns (...   \n",
       "11  1. Take 12-14 prawns. Thaw and dry them\\n2. Ma...   \n",
       "12  1. Take 12-14 prawns. Thaw and dry them\\n2. Ma...   \n",
       "\n",
       "                                          ingredients  \n",
       "6   prawns\\ncrabmeat\\nonion\\ntuna\\nchili powder\\nmayo  \n",
       "11  12-14 prawns\\npepper\\nherbs\\nchilli powder\\n1 ...  \n",
       "12  12-14 prawns\\npepper\\nherbs\\nchilli powder\\n1 ...  "
      ]
     },
     "execution_count": 19,
     "metadata": {},
     "output_type": "execute_result"
    }
   ],
   "source": [
    "recipes_df.loc[[6,11,12]]"
   ]
  },
  {
   "cell_type": "code",
   "execution_count": 20,
   "id": "be449107-f9ad-40b5-ae27-373a13cb7c41",
   "metadata": {},
   "outputs": [],
   "source": [
    "from collections import Counter\n",
    "import math\n",
    "\n",
    "class BM25:\n",
    "    def __init__(self, corpus):\n",
    "        self.corpus = corpus\n",
    "        self.doc_lengths = [len(doc) for doc in corpus]\n",
    "        self.avg_doc_length = sum(self.doc_lengths) / len(corpus)\n",
    "        self.inverted_index = self.build_inverted_index(corpus)\n",
    "        self.k1 = 1.5\n",
    "        self.b = 0.75\n",
    "\n",
    "    def build_inverted_index(self, corpus):\n",
    "        index = {}\n",
    "        for i, doc in enumerate(corpus):\n",
    "            term_freqs = Counter(doc)\n",
    "            for term, freq in term_freqs.items():\n",
    "                if term not in index:\n",
    "                    index[term] = []\n",
    "                index[term].append((i, freq))\n",
    "        return index\n",
    "\n",
    "    def score(self, query):\n",
    "        scores = [0 for _ in range(len(self.corpus))]\n",
    "        for term in query:\n",
    "            print(f'term = {term}')\n",
    "            f = self.inverted_index.get(term, [])\n",
    "            for i, freq in f:\n",
    "                if i not in [6, 11, 12]: continue\n",
    "                idf = math.log((len(self.corpus) - len(f) + 0.5) / (len(f) + 0.5) + 1.0)\n",
    "                numerator = freq * (self.k1 + 1)\n",
    "                denominator = freq + self.k1 * (1 - self.b + self.b * (self.doc_lengths[i] / self.avg_doc_length))\n",
    "                current_score = idf * numerator / denominator\n",
    "                scores[i] += current_score\n",
    "                title = recipes_df[\"title\"][i].zfill(35).replace('0',' ')\n",
    "                print(f'\\t| {title} | freq = {freq}\\t| current_score = {current_score}')\n",
    "        return scores"
   ]
  },
  {
   "cell_type": "code",
   "execution_count": 21,
   "id": "b2593530-8449-4cb2-85a6-da9f840deebe",
   "metadata": {},
   "outputs": [],
   "source": [
    "# Example usage\n",
    "corpus = [value for key, value in recipes.items()]\n",
    "bm25_model = BM25(corpus)"
   ]
  },
  {
   "cell_type": "code",
   "execution_count": 22,
   "id": "6ba1b96e-d701-4748-952f-c947c52c1f67",
   "metadata": {},
   "outputs": [
    {
     "name": "stdout",
     "output_type": "stream",
     "text": [
      "term = prawns\n",
      "\t| Delifrance Inspired Lobster Filling | freq = 1\t| current_score = 1.85847031093045\n",
      "\t|               Prawn Pesto Spaghetti | freq = 1\t| current_score = 1.2184000061987263\n",
      "\t|                   Prawn Pesto Penne | freq = 1\t| current_score = 1.2491292152362885\n",
      "term = penne\n",
      "\t|                   Prawn Pesto Penne | freq = 1\t| current_score = 1.5523096310751912\n",
      "term = pasta\n",
      "term = salt\n",
      "\t|               Prawn Pesto Spaghetti | freq = 1\t| current_score = 0.17288667576713773\n"
     ]
    }
   ],
   "source": [
    "query = ['prawns', 'penne', 'pasta', 'salt']\n",
    "_ = bm25_model.score(query)"
   ]
  },
  {
   "cell_type": "code",
   "execution_count": 23,
   "id": "9280cc88-5216-473a-a66f-c19e160719c9",
   "metadata": {},
   "outputs": [
    {
     "data": {
      "text/html": [
       "<div>\n",
       "<style scoped>\n",
       "    .dataframe tbody tr th:only-of-type {\n",
       "        vertical-align: middle;\n",
       "    }\n",
       "\n",
       "    .dataframe tbody tr th {\n",
       "        vertical-align: top;\n",
       "    }\n",
       "\n",
       "    .dataframe thead th {\n",
       "        text-align: right;\n",
       "    }\n",
       "</style>\n",
       "<table border=\"1\" class=\"dataframe\">\n",
       "  <thead>\n",
       "    <tr style=\"text-align: right;\">\n",
       "      <th></th>\n",
       "      <th>title</th>\n",
       "      <th>prawns</th>\n",
       "      <th>penne</th>\n",
       "      <th>pasta</th>\n",
       "      <th>salt</th>\n",
       "      <th>prawns+penne+salt</th>\n",
       "      <th>prawns+pasta+salt</th>\n",
       "    </tr>\n",
       "  </thead>\n",
       "  <tbody>\n",
       "    <tr>\n",
       "      <th>0</th>\n",
       "      <td>Delifrance Inspired Lobster Filling</td>\n",
       "      <td>1.858</td>\n",
       "      <td>0.000</td>\n",
       "      <td>0</td>\n",
       "      <td>0.000</td>\n",
       "      <td>1.858</td>\n",
       "      <td>1.858</td>\n",
       "    </tr>\n",
       "    <tr>\n",
       "      <th>1</th>\n",
       "      <td>Prawn Pesto Spaghetti</td>\n",
       "      <td>1.218</td>\n",
       "      <td>0.000</td>\n",
       "      <td>0</td>\n",
       "      <td>0.172</td>\n",
       "      <td>1.390</td>\n",
       "      <td>1.390</td>\n",
       "    </tr>\n",
       "    <tr>\n",
       "      <th>2</th>\n",
       "      <td>Prawn Pesto Penne</td>\n",
       "      <td>1.249</td>\n",
       "      <td>1.552</td>\n",
       "      <td>0</td>\n",
       "      <td>0.000</td>\n",
       "      <td>2.801</td>\n",
       "      <td>1.249</td>\n",
       "    </tr>\n",
       "  </tbody>\n",
       "</table>\n",
       "</div>"
      ],
      "text/plain": [
       "                                 title  prawns  penne  pasta   salt  \\\n",
       "0  Delifrance Inspired Lobster Filling   1.858  0.000      0  0.000   \n",
       "1                Prawn Pesto Spaghetti   1.218  0.000      0  0.172   \n",
       "2                    Prawn Pesto Penne   1.249  1.552      0  0.000   \n",
       "\n",
       "   prawns+penne+salt  prawns+pasta+salt  \n",
       "0              1.858              1.858  \n",
       "1              1.390              1.390  \n",
       "2              2.801              1.249  "
      ]
     },
     "execution_count": 23,
     "metadata": {},
     "output_type": "execute_result"
    }
   ],
   "source": [
    "x_df = pd.DataFrame({\n",
    "    'title': ['Delifrance Inspired Lobster Filling', 'Prawn Pesto Spaghetti', 'Prawn Pesto Penne'],\n",
    "    'prawns': [1.858, 1.218, 1.249],\n",
    "    'penne':  [0,         0, 1.552],\n",
    "    'pasta':  [0,         0,     0],\n",
    "    'salt':   [0,     0.172,     0],\n",
    "})\n",
    "\n",
    "x_df['prawns+penne+salt'] = x_df.apply(lambda x: x['prawns']+x['penne']+x['salt'], axis=1)\n",
    "x_df['prawns+pasta+salt'] = x_df.apply(lambda x: x['prawns']+x['pasta']+x['salt'], axis=1)\n",
    "x_df"
   ]
  }
 ],
 "metadata": {
  "kernelspec": {
   "display_name": "Python 3 (ipykernel)",
   "language": "python",
   "name": "python3"
  },
  "language_info": {
   "codemirror_mode": {
    "name": "ipython",
    "version": 3
   },
   "file_extension": ".py",
   "mimetype": "text/x-python",
   "name": "python",
   "nbconvert_exporter": "python",
   "pygments_lexer": "ipython3",
   "version": "3.10.13"
  }
 },
 "nbformat": 4,
 "nbformat_minor": 5
}
